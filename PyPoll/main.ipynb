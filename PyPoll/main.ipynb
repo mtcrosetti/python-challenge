{
 "cells": [
  {
   "cell_type": "code",
   "execution_count": 8,
   "metadata": {},
   "outputs": [
    {
     "data": {
      "text/html": [
       "<div>\n",
       "<style scoped>\n",
       "    .dataframe tbody tr th:only-of-type {\n",
       "        vertical-align: middle;\n",
       "    }\n",
       "\n",
       "    .dataframe tbody tr th {\n",
       "        vertical-align: top;\n",
       "    }\n",
       "\n",
       "    .dataframe thead th {\n",
       "        text-align: right;\n",
       "    }\n",
       "</style>\n",
       "<table border=\"1\" class=\"dataframe\">\n",
       "  <thead>\n",
       "    <tr style=\"text-align: right;\">\n",
       "      <th></th>\n",
       "      <th>Voter ID</th>\n",
       "      <th>County</th>\n",
       "      <th>Candidate</th>\n",
       "    </tr>\n",
       "  </thead>\n",
       "  <tbody>\n",
       "    <tr>\n",
       "      <th>0</th>\n",
       "      <td>12864552</td>\n",
       "      <td>Marsh</td>\n",
       "      <td>Khan</td>\n",
       "    </tr>\n",
       "    <tr>\n",
       "      <th>1</th>\n",
       "      <td>17444633</td>\n",
       "      <td>Marsh</td>\n",
       "      <td>Correy</td>\n",
       "    </tr>\n",
       "    <tr>\n",
       "      <th>2</th>\n",
       "      <td>19330107</td>\n",
       "      <td>Marsh</td>\n",
       "      <td>Khan</td>\n",
       "    </tr>\n",
       "    <tr>\n",
       "      <th>3</th>\n",
       "      <td>19865775</td>\n",
       "      <td>Queen</td>\n",
       "      <td>Khan</td>\n",
       "    </tr>\n",
       "    <tr>\n",
       "      <th>4</th>\n",
       "      <td>11927875</td>\n",
       "      <td>Marsh</td>\n",
       "      <td>Khan</td>\n",
       "    </tr>\n",
       "  </tbody>\n",
       "</table>\n",
       "</div>"
      ],
      "text/plain": [
       "   Voter ID County Candidate\n",
       "0  12864552  Marsh      Khan\n",
       "1  17444633  Marsh    Correy\n",
       "2  19330107  Marsh      Khan\n",
       "3  19865775  Queen      Khan\n",
       "4  11927875  Marsh      Khan"
      ]
     },
     "execution_count": 8,
     "metadata": {},
     "output_type": "execute_result"
    }
   ],
   "source": [
    "#Accumulate data\n",
    "\n",
    "import pandas as pd\n",
    "import numpy as np\n",
    "import operator\n",
    "file = (\"Resources/election_data.csv\")\n",
    "election_df = pd.read_csv(file)\n",
    "election_df.head()"
   ]
  },
  {
   "cell_type": "code",
   "execution_count": 9,
   "metadata": {},
   "outputs": [
    {
     "data": {
      "text/plain": [
       "'3521001'"
      ]
     },
     "execution_count": 9,
     "metadata": {},
     "output_type": "execute_result"
    }
   ],
   "source": [
    "#Total Number of Votes\n",
    "votes = election_df[\"Voter ID\"].unique()\n",
    "votes = len(votes)\n",
    "votes = str(votes)\n",
    "votes"
   ]
  },
  {
   "cell_type": "code",
   "execution_count": 11,
   "metadata": {},
   "outputs": [
    {
     "data": {
      "text/plain": [
       "Khan        2218231\n",
       "Correy       704200\n",
       "Li           492940\n",
       "O'Tooley     105630\n",
       "Name: Candidate, dtype: int64"
      ]
     },
     "execution_count": 11,
     "metadata": {},
     "output_type": "execute_result"
    }
   ],
   "source": [
    "#Complete List of Candidates Who Received Votes\n",
    "can_list = election_df[\"Candidate\"].value_counts()\n",
    "can_list"
   ]
  },
  {
   "cell_type": "code",
   "execution_count": 48,
   "metadata": {},
   "outputs": [],
   "source": [
    "#Percentage of Votes Each Candidate Won\n",
    "per_votes_khan    = str(round(((len(election_df[election_df['Candidate'].str.contains('Khan')])/len(election_df.index)) * 100), 3))\n",
    "per_votes_correy  = str(round(((len(election_df[election_df['Candidate'].str.contains('Correy')])/len(election_df.index)) * 100), 3))\n",
    "per_votes_li      = str(round(((len(election_df[election_df['Candidate'].str.contains('Li')])/len(election_df.index)) * 100), 3))\n",
    "per_votes_otooley = str(round(((len(election_df[election_df['Candidate'].str.contains(\"O'Tooley\")])/len(election_df.index)) * 100), 3))"
   ]
  },
  {
   "cell_type": "code",
   "execution_count": 49,
   "metadata": {},
   "outputs": [],
   "source": [
    "#Total number of Votes Each Candidate Won\n",
    "tot_votes_khan = str(len(election_df[election_df['Candidate'].str.contains('Khan')]))\n",
    "tot_votes_correy = str(len(election_df[election_df['Candidate'].str.contains('Correy')]))\n",
    "tot_votes_li = str(len(election_df[election_df['Candidate'].str.contains('Li')]))\n",
    "tot_votes_otooley = str(len(election_df[election_df['Candidate'].str.contains(\"O'Tooley\")]))\n"
   ]
  },
  {
   "cell_type": "code",
   "execution_count": 68,
   "metadata": {},
   "outputs": [
    {
     "data": {
      "text/plain": [
       "'Khan: 63.0%, (2218231)'"
      ]
     },
     "execution_count": 68,
     "metadata": {},
     "output_type": "execute_result"
    }
   ],
   "source": [
    "#Create Vote Information Table (String)\n",
    "khan_vote = 'Khan: ' + per_votes_khan + \"%, (\" + tot_votes_khan + \")\"\n",
    "correy_vote = 'Correy: ' + per_votes_correy + \"%, (\" + tot_votes_correy + \")\"\n",
    "li_vote = 'Li: ' + per_votes_li + \"%, (\" + tot_votes_li + \")\"\n",
    "otooley_vote = \"O'Tooley: \" + per_votes_otooley + \"%, (\" + tot_votes_otooley + \")\"\n",
    "khan_vote"
   ]
  },
  {
   "cell_type": "code",
   "execution_count": 51,
   "metadata": {},
   "outputs": [
    {
     "data": {
      "text/plain": [
       "{'Khan': '63.0', 'Correy': '20.0', 'Li': '14.0', \"O'Tooley\": '3.0'}"
      ]
     },
     "execution_count": 51,
     "metadata": {},
     "output_type": "execute_result"
    }
   ],
   "source": [
    "#Create Vote Information Table (Float)\n",
    "float_table = {'Khan' : per_votes_khan,\n",
    "               'Correy' : per_votes_correy,\n",
    "               'Li' : per_votes_li,\n",
    "               \"O'Tooley\" : per_votes_otooley}\n",
    "float_table"
   ]
  },
  {
   "cell_type": "code",
   "execution_count": 47,
   "metadata": {},
   "outputs": [
    {
     "data": {
      "text/plain": [
       "'Khan'"
      ]
     },
     "execution_count": 47,
     "metadata": {},
     "output_type": "execute_result"
    }
   ],
   "source": [
    "#Determine the Winner\n",
    "winner = max(float_table.items(), key=operator.itemgetter(1))[0]\n",
    "winner"
   ]
  },
  {
   "cell_type": "code",
   "execution_count": 69,
   "metadata": {},
   "outputs": [
    {
     "data": {
      "text/plain": [
       "['Election Results',\n",
       " '---------------------------------',\n",
       " 'Total Votes: 3521001',\n",
       " '---------------------------------',\n",
       " 'Khan: 63.0%, (2218231)',\n",
       " 'Correy: 20.0%, (704200)',\n",
       " 'Li: 14.0%, (492940)',\n",
       " \"O'Tooley: 3.0%, (105630)\",\n",
       " '---------------------------------',\n",
       " 'Winner: Khan']"
      ]
     },
     "execution_count": 69,
     "metadata": {},
     "output_type": "execute_result"
    }
   ],
   "source": [
    "#Export Analysis\n",
    "review = []\n",
    "review.append(\"Election Results\")\n",
    "review.append(\"---------------------------------\")\n",
    "review.append(\"Total Votes: \" + votes)\n",
    "review.append(\"---------------------------------\")\n",
    "review.append(khan_vote)\n",
    "review.append(correy_vote)\n",
    "review.append(li_vote)\n",
    "review.append(otooley_vote)\n",
    "review.append(\"---------------------------------\")\n",
    "review.append(\"Winner: \" + winner)\n",
    "review"
   ]
  },
  {
   "cell_type": "code",
   "execution_count": 70,
   "metadata": {},
   "outputs": [],
   "source": [
    "with open('output.txt', 'w') as analysis:\n",
    "    for line in review:\n",
    "        analysis.write(\"%s\\n\" % line)"
   ]
  },
  {
   "cell_type": "code",
   "execution_count": null,
   "metadata": {},
   "outputs": [],
   "source": []
  }
 ],
 "metadata": {
  "kernelspec": {
   "display_name": "Python 3",
   "language": "python",
   "name": "python3"
  },
  "language_info": {
   "codemirror_mode": {
    "name": "ipython",
    "version": 3
   },
   "file_extension": ".py",
   "mimetype": "text/x-python",
   "name": "python",
   "nbconvert_exporter": "python",
   "pygments_lexer": "ipython3",
   "version": "3.7.1"
  }
 },
 "nbformat": 4,
 "nbformat_minor": 2
}
